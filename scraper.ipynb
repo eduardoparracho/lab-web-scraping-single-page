{
 "cells": [
  {
   "cell_type": "code",
   "execution_count": 25,
   "metadata": {},
   "outputs": [
    {
     "name": "stdout",
     "output_type": "stream",
     "text": [
      "                 title                               artist\n",
      "0   A Bar Song (Tipsy)                            Shaboozey\n",
      "1      I Had Some Help  Post Malone Featuring Morgan Wallen\n",
      "2             Espresso                    Sabrina Carpenter\n",
      "3     Good Luck, Babe!                        Chappell Roan\n",
      "4     Die With A Smile               Lady Gaga & Bruno Mars\n",
      "..                 ...                                  ...\n",
      "95     U My Everything                    Sexyy Red & Drake\n",
      "96    My Kink Is Karma                        Chappell Roan\n",
      "97               Nasty                              Tinashe\n",
      "98         Parking Lot               Mustard & Travis Scott\n",
      "99           Worst Way                          Riley Green\n",
      "\n",
      "[100 rows x 2 columns]\n"
     ]
    }
   ],
   "source": [
    "import pandas as pd\n",
    "from bs4 import BeautifulSoup\n",
    "import requests\n",
    "\n",
    "url = 'https://www.billboard.com/charts/hot-100/'\n",
    "response = requests.get(url)\n",
    "\n",
    "soup = BeautifulSoup(response.content, 'html.parser')\n",
    "songs = soup.find_all('li', class_='o-chart-results-list__item')\n",
    "\n",
    "entries = dict()\n",
    "\n",
    "for song in songs:\n",
    "    title_element = song.find('h3', class_='c-title')\n",
    "    artist_element = song.find('span', class_='c-label')\n",
    "    if title_element and artist_element:\n",
    "        entries[title_element.get_text(strip=True)] = artist_element.get_text(strip=True)\n",
    "\n",
    "df = pd.DataFrame(entries.items(), columns=['title', 'artist'])\n",
    "\n",
    "print(df)"
   ]
  }
 ],
 "metadata": {
  "kernelspec": {
   "display_name": "base",
   "language": "python",
   "name": "python3"
  },
  "language_info": {
   "codemirror_mode": {
    "name": "ipython",
    "version": 3
   },
   "file_extension": ".py",
   "mimetype": "text/x-python",
   "name": "python",
   "nbconvert_exporter": "python",
   "pygments_lexer": "ipython3",
   "version": "3.12.4"
  }
 },
 "nbformat": 4,
 "nbformat_minor": 2
}
