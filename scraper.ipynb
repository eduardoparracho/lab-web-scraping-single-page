{
 "cells": [
  {
   "cell_type": "code",
   "execution_count": 26,
   "metadata": {},
   "outputs": [
    {
     "name": "stdout",
     "output_type": "stream",
     "text": [
      "                 Title                               Artist\n",
      "0   A Bar Song (Tipsy)                            Shaboozey\n",
      "1      I Had Some Help  Post Malone Featuring Morgan Wallen\n",
      "2             Espresso                    Sabrina Carpenter\n",
      "3     Good Luck, Babe!                        Chappell Roan\n",
      "4     Die With A Smile               Lady Gaga & Bruno Mars\n",
      "..                 ...                                  ...\n",
      "95     U My Everything                    Sexyy Red & Drake\n",
      "96    My Kink Is Karma                        Chappell Roan\n",
      "97               Nasty                              Tinashe\n",
      "98         Parking Lot               Mustard & Travis Scott\n",
      "99           Worst Way                          Riley Green\n",
      "\n",
      "[100 rows x 2 columns]\n"
     ]
    }
   ],
   "source": [
    "import pandas as pd\n",
    "from bs4 import BeautifulSoup\n",
    "import requests\n",
    "\n",
    "url = 'https://www.billboard.com/charts/hot-100/'\n",
    "response = requests.get(url)\n",
    "\n",
    "soup = BeautifulSoup(response.content, 'html.parser')\n",
    "songs = soup.find_all('li', class_='o-chart-results-list__item')\n",
    "\n",
    "entries = dict()\n",
    "\n",
    "for song in songs:\n",
    "    title = song.find('h3', class_='c-title')\n",
    "    artist = song.find('span', class_='c-label')\n",
    "    if title and artist:\n",
    "        entries[title.get_text(strip=True)] = artist.get_text(strip=True)\n",
    "\n",
    "df = pd.DataFrame(entries.items(), columns=['Title', 'Artist'])\n",
    "\n",
    "print(df)"
   ]
  },
  {
   "cell_type": "code",
   "execution_count": 31,
   "metadata": {},
   "outputs": [
    {
     "name": "stdout",
     "output_type": "stream",
     "text": [
      "I reccomend you listen to Good Luck, Babe! by Chappell Roan\n"
     ]
    }
   ],
   "source": [
    "music = \"Die With A Smile\"\n",
    "\n",
    "for i in df.index:\n",
    "    if df['Title'][i] == music:\n",
    "        if i > 0: \n",
    "            print(f\"I reccomend you listen to {df['Title'][i-1]} by {df['Artist'][i-1]}\")\n",
    "        else:\n",
    "            print(f\"I reccomend you listen to {df['Title'][i+1]} by {df['Artist'][i+1]}\")\n"
   ]
  }
 ],
 "metadata": {
  "kernelspec": {
   "display_name": "base",
   "language": "python",
   "name": "python3"
  },
  "language_info": {
   "codemirror_mode": {
    "name": "ipython",
    "version": 3
   },
   "file_extension": ".py",
   "mimetype": "text/x-python",
   "name": "python",
   "nbconvert_exporter": "python",
   "pygments_lexer": "ipython3",
   "version": "3.12.4"
  }
 },
 "nbformat": 4,
 "nbformat_minor": 2
}
